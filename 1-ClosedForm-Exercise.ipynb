{
 "cells": [
  {
   "cell_type": "markdown",
   "id": "81786955",
   "metadata": {},
   "source": [
    "# Student Exercises - Complex Taylor Series Expansion\n",
    "\n",
    "This file contains a set of exercises for the course \"Automatic differentiation using complex and hypercomplex numbers\" given in USNCCM17 on July 23 2023\n",
    "\n",
    "```\n",
    "By: \n",
    "Mauricio Aristizabal\n",
    "Samuel Roberts\n",
    "Harry Millwater\n",
    "\n",
    "Created: 04/14/2023\n",
    "```\n",
    "You are expected to use complex numbers in the following exercises. You are encouraged to use either the [```cmath```](https://docs.python.org/3/library/cmath.html) or [```numpy```](https://numpy.org/doc/stable/reference/generated/numpy.imag.html) to use elementary functions such as ```sin```, ```cos```, ```exp```, ```log```, ```cosh```, etc"
   ]
  },
  {
   "cell_type": "code",
   "execution_count": 2,
   "id": "b2d9a2da",
   "metadata": {},
   "outputs": [],
   "source": [
    "# TODO: Can we add this into a commons.py module file?\n",
    "import sys\n",
    "sys.path.append('../')\n",
    "\n",
    "import utils.functions # Utility and helper functions\n",
    "\n",
    "\n",
    "import matplotlib.pyplot as plt\n",
    "\n",
    "import numpy as np\n",
    "\n",
    "# For easiness of use, we can import the folowing functions:\n",
    "from numpy import pi, sin, cos, cosh, sinh, tan, exp, sqrt, log"
   ]
  },
  {
   "cell_type": "markdown",
   "id": "300b526c",
   "metadata": {},
   "source": [
    "## Exercise 1 (Example)\n",
    "\n",
    "Use CTSE to find the derivative of the following function at $x=3.5$\n",
    "\n",
    "$$\n",
    "\\begin{array}{r,c,l}\n",
    "f(x)   & = & x^2   \\\\\n",
    "f(3.5) & = & 12.25 \\\\\n",
    "\\end{array}\n",
    "$$\n",
    "\n",
    "Use a step size $h=10^{-10}$.\n",
    "\n",
    "The analytical derivative is given by\n",
    "\n",
    "$$\n",
    "\\begin{array}{r,c,l}\n",
    "f'(x)   & = & 2x\\\\\n",
    "f'(3.5) & = & 7\n",
    "\\end{array}\n",
    "$$"
   ]
  },
  {
   "cell_type": "code",
   "execution_count": 2,
   "id": "a4700e63",
   "metadata": {},
   "outputs": [
    {
     "name": "stdout",
     "output_type": "stream",
     "text": [
      "Complex function evaluation:\n",
      "f(x^*): (12.25+7.000000000000001e-10j)\n",
      "\n",
      "The approximated derivative using CTSE:\n",
      "df_dx:  7.0\n"
     ]
    }
   ],
   "source": [
    "# Define the real value\n",
    "x0 = 3.5\n",
    "\n",
    "# define the step-size\n",
    "h = 10**(-10)\n",
    "\n",
    "# Apply complex perturbation to the number.\n",
    "x = x0 + h * 1j\n",
    "\n",
    "# Use complexified function\n",
    "f_eval = x**2\n",
    "\n",
    "print('Complex function evaluation:')\n",
    "print('f(x^*):',f_eval)\n",
    "\n",
    "# The deivative is obtained by extracting the imaginary coefficient\n",
    "# divided by the step-size.\n",
    "\n",
    "df_dx = f_eval.imag / h\n",
    "\n",
    "print()\n",
    "print('The approximated derivative using CTSE:')\n",
    "print('df_dx: ',df_dx)"
   ]
  },
  {
   "cell_type": "markdown",
   "id": "dd803a32",
   "metadata": {},
   "source": [
    "## Exercise 2\n",
    "\n",
    "Use CTSE to find the derivative of the following function at $x=3.5$\n",
    "\n",
    "$$\n",
    "\\begin{array}{r,c,l}\n",
    "f(x)   & = & x^3    \\\\\n",
    "f(3.5) & = & 42.875 \\\\\n",
    "\\end{array}\n",
    "$$\n",
    "\n",
    "Use a step size $h=10^{-10}$.\n",
    "\n",
    "The analytical derivative is given by the following expression\n",
    "\n",
    "$$\n",
    "\\begin{array}{r,c,l}\n",
    "f'(x)   & = & 3x^2  \\\\\n",
    "f'(3.5) & = & 36.75 \\\\\n",
    "\\end{array}\n",
    "$$"
   ]
  },
  {
   "cell_type": "code",
   "execution_count": 3,
   "id": "5eef9336",
   "metadata": {},
   "outputs": [
    {
     "name": "stdout",
     "output_type": "stream",
     "text": [
      "Complex function evaluated:\n",
      "f(x^*): (42.875+3.6750000000000006e-09j)\n",
      "\n",
      "The approximated derivative using CTSE:\n",
      "df_dx:  36.75000000000001\n"
     ]
    }
   ],
   "source": [
    "# >>>>>>>>>>>>>>>>>\n",
    "# ADD YOUR CODE HERE\n",
    "# >>>>>>>>>>>>>>>>>\n",
    "\n",
    "#>>>>>>>>>>>>>>>>>>>>>>>>>>>>>>>>>>>>>>>>>>>>>>>>>>>>>>>>>>>>>>>>>>>\n",
    "\n",
    "# Define the real value\n",
    "x0 =\n",
    "\n",
    "# define the step-size\n",
    "h = \n",
    "\n",
    "# Apply complex perturbation to the number.\n",
    "x = \n",
    "\n",
    "# evaluate the function\n",
    "f_eval = \n",
    "\n",
    "print('Complex function evaluated:')\n",
    "print('f(x^*):',f_eval)\n",
    "\n",
    "# The deivative is obtained by extracting the imaginary coefficient\n",
    "# divided by the step-size.\n",
    "\n",
    "df_dx = \n",
    "\n",
    "#>>>>>>>>>>>>>>>>>>>>>>>>>>>>>>>>>>>>>>>>>>>>>>>>>>>>>>>>>>>>>>>>>>>\n",
    "\n",
    "\n",
    "print()\n",
    "print('The approximated derivative using CTSE:')\n",
    "print('df_dx: ',df_dx)\n"
   ]
  },
  {
   "cell_type": "markdown",
   "id": "76fb3c8f",
   "metadata": {},
   "source": [
    "## Exercise 3\n",
    "\n",
    "Use CTSE to find the derivative of the following function at $x=\\pi/6$\n",
    "\n",
    "$$\n",
    "\\begin{array}{r,c,l}\n",
    "f(x)   & = & \\sin{(x)}   \\\\\n",
    "f\\left(\\displaystyle \\frac{\\pi}{6}\\right) & = & 0.5 \\\\\n",
    "\\end{array}\n",
    "$$\n",
    "\n",
    "Use a step size $h=10^{-10}$.\n",
    "\n",
    "The analytical derivative is given by the following expression\n",
    "\n",
    "$$\n",
    "\\begin{array}{r,c,l}\n",
    "f'(x)   & = & \\cos{(x)}  \\\\\n",
    "f'\\left(\\displaystyle \\frac{\\pi}{6}\\right)  & \\approx & 0.8660254037844387 \\\\\n",
    "\\end{array}\n",
    "$$"
   ]
  },
  {
   "cell_type": "code",
   "execution_count": 4,
   "id": "168fb788",
   "metadata": {},
   "outputs": [
    {
     "name": "stdout",
     "output_type": "stream",
     "text": [
      "Complex function evaluated:\n",
      "f(x^*): (0.49999999999999994+8.660254037844388e-11j)\n",
      "\n",
      "The approximated derivative using CTSE:\n",
      "df_dx:  0.8660254037844387\n"
     ]
    }
   ],
   "source": [
    "# >>>>>>>>>>>>>>>>>\n",
    "# ADD YOUR CODE HERE\n",
    "# >>>>>>>>>>>>>>>>>\n",
    "\n",
    "#>>>>>>>>>>>>>>>>>>>>>>>>>>>>>>>>>>>>>>>>>>>>>>>>>>>>>>>>>>>>>>>>>>>\n",
    "# Define the real value\n",
    "x0 = \n",
    "\n",
    "\n",
    "# define the step-size\n",
    "h = \n",
    "\n",
    "# Apply complex perturbation to the number.\n",
    "x = \n",
    "\n",
    "# evaluate the function\n",
    "f_eval = \n",
    "\n",
    "print('Complex function evaluated:')\n",
    "print('f(x^*):',f_eval)\n",
    "\n",
    "# The deivative is obtained by extracting the imaginary coefficient\n",
    "# divided by the step-size.\n",
    "\n",
    "df_dx = \n",
    "\n",
    "#>>>>>>>>>>>>>>>>>>>>>>>>>>>>>>>>>>>>>>>>>>>>>>>>>>>>>>>>>>>>>>>>>>>\n",
    "\n",
    "print()\n",
    "print('The approximated derivative using CTSE:')\n",
    "print('df_dx: ',df_dx)"
   ]
  },
  {
   "cell_type": "markdown",
   "id": "cd7fea84",
   "metadata": {},
   "source": [
    "## Exercise 4\n",
    "\n",
    "Use CTSE to find the derivative of the following function at $x=\\pi/6$\n",
    "\n",
    "$$\n",
    "\\begin{array}{r,c,l}\n",
    "f(x)   & = & \\cos{(x)}   \\\\\n",
    "f\\left(\\displaystyle \\frac{\\pi}{6}\\right) & \\approx & 0.8660254037844387 \\\\\n",
    "\\end{array}\n",
    "$$\n",
    "\n",
    "Use a step size $h=10^{-10}$.\n",
    "\n",
    "The analytical derivative is given by the following expression\n",
    "\n",
    "$$\n",
    "\\begin{array}{r,c,l}\n",
    "f'(x)   & = & -\\sin{(x)}  \\\\\n",
    "f'\\left(\\displaystyle \\frac{\\pi}{6}\\right)  & = & -0.5 \\\\\n",
    "\\end{array}\n",
    "$$"
   ]
  },
  {
   "cell_type": "code",
   "execution_count": 5,
   "id": "2c559c2f",
   "metadata": {},
   "outputs": [
    {
     "name": "stdout",
     "output_type": "stream",
     "text": [
      "Complex function evaluated:\n",
      "f(x^*): (0.8660254037844387-4.9999999999999995e-11j)\n",
      "\n",
      "The approximated derivative using CTSE:\n",
      "df_dx:  -0.49999999999999994\n"
     ]
    }
   ],
   "source": [
    "# >>>>>>>>>>>>>>>>>\n",
    "# ADD YOUR CODE HERE\n",
    "# >>>>>>>>>>>>>>>>>\n",
    "\n",
    "#>>>>>>>>>>>>>>>>>>>>>>>>>>>>>>>>>>>>>>>>>>>>>>>>>>>>>>>>>>>>>>>>>>>\n",
    "\n",
    "# Define the real value\n",
    "x0 = \n",
    "\n",
    "# define the step-size\n",
    "h = \n",
    "\n",
    "# Apply complex perturbation to the number.\n",
    "x = \n",
    "\n",
    "# evaluate the function\n",
    "f_eval = \n",
    "\n",
    "print('Complex function evaluated:')\n",
    "print('f(x^*):',f_eval)\n",
    "\n",
    "# The deivative is obtained by extracting the imaginary coefficient\n",
    "# divided by the step-size.\n",
    "\n",
    "df_dx = \n",
    "\n",
    "#>>>>>>>>>>>>>>>>>>>>>>>>>>>>>>>>>>>>>>>>>>>>>>>>>>>>>>>>>>>>>>>>>>>\n",
    "\n",
    "print()\n",
    "print('The approximated derivative using CTSE:')\n",
    "print('df_dx: ',df_dx)"
   ]
  },
  {
   "cell_type": "markdown",
   "id": "301deb62",
   "metadata": {},
   "source": [
    "## Exercise 5\n",
    "\n",
    "Use CTSE to find the derivative of the following function at $x=\\pi/6$\n",
    "\n",
    "$$\n",
    "\\begin{array}{r,c,l}\n",
    "f(x)   & = & \\tan{(x)}   \\\\\n",
    "f\\left(\\displaystyle \\frac{\\pi}{6}\\right) & \\approx &0.5773502691896258 \\\\\n",
    "\\end{array}\n",
    "$$\n",
    "\n",
    "Use a step size $h=10^{-10}$.\n",
    "\n",
    "The analytical derivative is given by the following expression\n",
    "\n",
    "$$\n",
    "\\begin{array}{r,c,l}\n",
    "f'(x)   & = & \\displaystyle\\frac{1}{\\cos^2(x)}  \\\\\n",
    "f'\\left(\\displaystyle \\frac{\\pi}{6}\\right)  & \\approx & 1.3333333333333333 \\\\\n",
    "\\end{array}\n",
    "$$"
   ]
  },
  {
   "cell_type": "code",
   "execution_count": 6,
   "id": "0003773d",
   "metadata": {},
   "outputs": [
    {
     "name": "stdout",
     "output_type": "stream",
     "text": [
      "Complex function evaluated:\n",
      "f(x^*): (0.5773502691896256+1.333333333333333e-10j)\n",
      "\n",
      "The approximated derivative using CTSE:\n",
      "df_dx:  1.333333333333333\n"
     ]
    }
   ],
   "source": [
    "# >>>>>>>>>>>>>>>>>\n",
    "# ADD YOUR CODE HERE\n",
    "# >>>>>>>>>>>>>>>>>\n",
    "\n",
    "#>>>>>>>>>>>>>>>>>>>>>>>>>>>>>>>>>>>>>>>>>>>>>>>>>>>>>>>>>>>>>>>>>>>\n",
    "\n",
    "# Define the real value\n",
    "x0 = \n",
    "\n",
    "# define the step-size\n",
    "h = \n",
    "\n",
    "# Apply complex perturbation to the number.\n",
    "x = \n",
    "\n",
    "# evaluate the function\n",
    "f_eval = \n",
    "\n",
    "print('Complex function evaluated:')\n",
    "print('f(x^*):',f_eval)\n",
    "\n",
    "# The deivative is obtained by extracting the imaginary coefficient\n",
    "# divided by the step-size.\n",
    "\n",
    "df_dx = \n",
    "\n",
    "#>>>>>>>>>>>>>>>>>>>>>>>>>>>>>>>>>>>>>>>>>>>>>>>>>>>>>>>>>>>>>>>>>>>\n",
    "\n",
    "print()\n",
    "print('The approximated derivative using CTSE:')\n",
    "print('df_dx: ',df_dx)"
   ]
  },
  {
   "cell_type": "markdown",
   "id": "d466afd0",
   "metadata": {},
   "source": [
    "## Exercise 6\n",
    "\n",
    "Use CTSE to find the derivative of the following function at $x=1$\n",
    "\n",
    "$$\n",
    "\\begin{array}{r,c,l}\n",
    "f(x)   & = & \\sinh{(x)}   \\\\\n",
    "f\\left(\\displaystyle -1 \\right) &  \\approx & 1.1752011936438014 \\\\\n",
    "\\end{array}\n",
    "$$\n",
    "\n",
    "Use a step size $h=10^{-10}$.\n",
    "\n",
    "The analytical derivative is given by the following expression\n",
    "\n",
    "$$\n",
    "\\begin{array}{r,c,l}\n",
    "f'(x)   & = & \\displaystyle\\cosh{(x)}  \\\\\n",
    "f'\\left(\\displaystyle 1\\right)  & \\approx & 1.5430806348152437 \\\\\n",
    "\\end{array}\n",
    "$$"
   ]
  },
  {
   "cell_type": "code",
   "execution_count": 7,
   "id": "ace0236e",
   "metadata": {},
   "outputs": [
    {
     "name": "stdout",
     "output_type": "stream",
     "text": [
      "Complex function evaluated:\n",
      "f(x^*): (1.1752011936438014+1.5430806348152438e-10j)\n",
      "\n",
      "The approximated derivative using CTSE:\n",
      "df_dx:  1.5430806348152437\n"
     ]
    }
   ],
   "source": [
    "# >>>>>>>>>>>>>>>>>\n",
    "# ADD YOUR CODE HERE\n",
    "# >>>>>>>>>>>>>>>>>\n",
    "\n",
    "#>>>>>>>>>>>>>>>>>>>>>>>>>>>>>>>>>>>>>>>>>>>>>>>>>>>>>>>>>>>>>>>>>>>\n",
    "\n",
    "# Define the real value\n",
    "x0 = \n",
    "\n",
    "# define the step-size\n",
    "h = \n",
    "\n",
    "# Apply complex perturbation to the number.\n",
    "x =\n",
    "\n",
    "# evaluate the function\n",
    "f_eval = \n",
    "\n",
    "print('Complex function evaluated:')\n",
    "print('f(x^*):',f_eval)\n",
    "\n",
    "# The deivative is obtained by extracting the imaginary coefficient\n",
    "# divided by the step-size.\n",
    "\n",
    "df_dx = \n",
    "\n",
    "#>>>>>>>>>>>>>>>>>>>>>>>>>>>>>>>>>>>>>>>>>>>>>>>>>>>>>>>>>>>>>>>>>>>\n",
    "\n",
    "print()\n",
    "print('The approximated derivative using CTSE:')\n",
    "print('df_dx: ',df_dx)"
   ]
  },
  {
   "cell_type": "markdown",
   "id": "5c35224a",
   "metadata": {},
   "source": [
    "## Exercise 7\n",
    "\n",
    "Use CTSE to find the derivative of the following function at $x=1$\n",
    "\n",
    "$$\n",
    "\\begin{array}{r,c,l}\n",
    "f(x)   & = & \\cosh{x}   \\\\\n",
    "f\\left(\\displaystyle -1 \\right) & \\approx &  1.5430806348152437 \\\\\n",
    "\\end{array}\n",
    "$$\n",
    "\n",
    "Use a step size $h=10^{-10}$.\n",
    "\n",
    "The analytical derivative is given by the following expression\n",
    "\n",
    "$$\n",
    "\\begin{array}{r,c,l}\n",
    "f'(x)   & = & \\displaystyle\\sinh(x)  \\\\\n",
    "f'\\left(\\displaystyle 1\\right)  & \\approx &  1.1752011936438014 \\\\\n",
    "\\end{array}\n",
    "$$"
   ]
  },
  {
   "cell_type": "code",
   "execution_count": 8,
   "id": "9e2a0053",
   "metadata": {},
   "outputs": [
    {
     "name": "stdout",
     "output_type": "stream",
     "text": [
      "Complex function evaluated:\n",
      "f(x^*): (1.5430806348152437+1.1752011936438014e-10j)\n",
      "\n",
      "The approximated derivative using CTSE:\n",
      "df_dx:  1.1752011936438014\n"
     ]
    }
   ],
   "source": [
    "# >>>>>>>>>>>>>>>>>\n",
    "# ADD YOUR CODE HERE\n",
    "# >>>>>>>>>>>>>>>>>\n",
    "\n",
    "#>>>>>>>>>>>>>>>>>>>>>>>>>>>>>>>>>>>>>>>>>>>>>>>>>>>>>>>>>>>>>>>>>>>\n",
    "\n",
    "# Define the real value\n",
    "x0 = \n",
    "\n",
    "# define the step-size\n",
    "h = \n",
    "\n",
    "# Apply complex perturbation to the number.\n",
    "x = \n",
    "\n",
    "# evaluate the function\n",
    "f_eval = \n",
    "\n",
    "print('Complex function evaluated:')\n",
    "print('f(x^*):',f_eval)\n",
    "\n",
    "# The deivative is obtained by extracting the imaginary coefficient\n",
    "# divided by the step-size.\n",
    "\n",
    "df_dx = \n",
    "\n",
    "#>>>>>>>>>>>>>>>>>>>>>>>>>>>>>>>>>>>>>>>>>>>>>>>>>>>>>>>>>>>>>>>>>>>\n",
    "\n",
    "print()\n",
    "print('The approximated derivative using CTSE:')\n",
    "print('df_dx: ',df_dx)"
   ]
  },
  {
   "cell_type": "markdown",
   "id": "393143b6",
   "metadata": {},
   "source": [
    "## Exercise 8\n",
    "\n",
    "Use CTSE to find the derivative of the following function at $x=3/4$\n",
    "\n",
    "$$\n",
    "\\begin{array}{r,c,l}\n",
    "f(x)   & = & \\log{x}   \\\\\n",
    "f\\left(\\displaystyle \\frac{3}{4} \\right) &  \\approx & -0.2876820724517809 \\\\\n",
    "\\end{array}\n",
    "$$\n",
    "\n",
    "Use a step size $h=10^{-10}$.\n",
    "\n",
    "The analytical derivative is given by the following expression\n",
    "\n",
    "$$\n",
    "\\begin{array}{r,c,l}\n",
    "f'(x)   & = & \\displaystyle\\frac{1}{x}  \\\\\n",
    "f'\\left(\\displaystyle \\frac{3}{4}\\right)  & \\approx &  1.3333333333333333 \\\\\n",
    "\\end{array}\n",
    "$$"
   ]
  },
  {
   "cell_type": "code",
   "execution_count": 9,
   "id": "2ac196f5",
   "metadata": {},
   "outputs": [
    {
     "name": "stdout",
     "output_type": "stream",
     "text": [
      "Complex function evaluated:\n",
      "f(x^*): (-0.2876820724517809+1.3333333333333334e-10j)\n",
      "\n",
      "The approximated derivative using CTSE:\n",
      "df_dx:  1.3333333333333333\n"
     ]
    }
   ],
   "source": [
    "# >>>>>>>>>>>>>>>>>\n",
    "# ADD YOUR CODE HERE\n",
    "# >>>>>>>>>>>>>>>>>\n",
    "\n",
    "#>>>>>>>>>>>>>>>>>>>>>>>>>>>>>>>>>>>>>>>>>>>>>>>>>>>>>>>>>>>>>>>>>>>\n",
    "\n",
    "# Define the real value\n",
    "x0 = \n",
    "\n",
    "# define the step-size\n",
    "h = \n",
    "\n",
    "# Apply complex perturbation to the number.\n",
    "x = \n",
    "\n",
    "# evaluate the function\n",
    "f_eval = \n",
    "\n",
    "print('Complex function evaluated:')\n",
    "print('f(x^*):',f_eval)\n",
    "\n",
    "# The deivative is obtained by extracting the imaginary coefficient\n",
    "# divided by the step-size.\n",
    "\n",
    "df_dx = \n",
    "\n",
    "\n",
    "#>>>>>>>>>>>>>>>>>>>>>>>>>>>>>>>>>>>>>>>>>>>>>>>>>>>>>>>>>>>>>>>>>>>\n",
    "\n",
    "print()\n",
    "print('The approximated derivative using CTSE:')\n",
    "print('df_dx: ',df_dx)"
   ]
  },
  {
   "cell_type": "markdown",
   "id": "e99adbf7",
   "metadata": {},
   "source": [
    "## Exercise 9\n",
    "\n",
    "Use CTSE to find the derivative of the following function at $x=2$\n",
    "\n",
    "$$\n",
    "\\begin{array}{r,c,l}\n",
    "f(x)   & = & x e^x   \\\\\n",
    "f\\left(\\displaystyle 2 \\right) & \\approx & 14.7781121978613 \\\\\n",
    "\\end{array}\n",
    "$$\n",
    "\n",
    "Use a step size $h=10^{-10}$.\n",
    "\n",
    "The analytical derivative is given by the following expression\n",
    "\n",
    "$$\n",
    "\\begin{array}{r,c,l}\n",
    "f'(x)   & = & \\displaystyle  (1+x)e^x  \\\\\n",
    "f'\\left(\\displaystyle 2\\right)  & \\approx & 22.16716829679195 \\\\\n",
    "\\end{array}\n",
    "$$"
   ]
  },
  {
   "cell_type": "code",
   "execution_count": 10,
   "id": "0e3b583f",
   "metadata": {},
   "outputs": [
    {
     "name": "stdout",
     "output_type": "stream",
     "text": [
      "Complex function evaluated:\n",
      "f(x^*): (14.7781121978613+2.2167168296791953e-09j)\n",
      "\n",
      "The approximated derivative using CTSE:\n",
      "df_dx:  22.167168296791953\n"
     ]
    }
   ],
   "source": [
    "# >>>>>>>>>>>>>>>>>\n",
    "# ADD YOUR CODE HERE\n",
    "# >>>>>>>>>>>>>>>>>\n",
    "\n",
    "#>>>>>>>>>>>>>>>>>>>>>>>>>>>>>>>>>>>>>>>>>>>>>>>>>>>>>>>>>>>>>>>>>>>\n",
    "\n",
    "# Define the real value\n",
    "x0 = \n",
    "\n",
    "# define the step-size\n",
    "h = \n",
    "\n",
    "# Apply complex perturbation to the number.\n",
    "x = \n",
    "\n",
    "# evaluate the function\n",
    "f_eval = \n",
    "\n",
    "print('Complex function evaluated:')\n",
    "print('f(x^*):',f_eval)\n",
    "\n",
    "# The deivative is obtained by extracting the imaginary coefficient\n",
    "# divided by the step-size.\n",
    "\n",
    "df_dx = \n",
    "\n",
    "#>>>>>>>>>>>>>>>>>>>>>>>>>>>>>>>>>>>>>>>>>>>>>>>>>>>>>>>>>>>>>>>>>>>\n",
    "\n",
    "print()\n",
    "print('The approximated derivative using CTSE:')\n",
    "print('df_dx: ',df_dx)"
   ]
  },
  {
   "cell_type": "markdown",
   "id": "e5d28f5f",
   "metadata": {},
   "source": [
    "## Exercise 10\n",
    "\n",
    "Use CTSE to find the derivative of the following function at $x=2$\n",
    "\n",
    "$$\n",
    "\\begin{array}{r,c,l}\n",
    "f(x)   & = & \\displaystyle \\frac{1}{x}  \\\\\n",
    "f\\left(\\displaystyle 2 \\right) & = & \\displaystyle \\frac{1}{2}  = 0.5 \\\\\n",
    "\\end{array}\n",
    "$$\n",
    "\n",
    "Use a step size $h=10^{-10}$.\n",
    "\n",
    "The analytical derivative is given by the following expression\n",
    "\n",
    "$$\n",
    "\\begin{array}{r,c,l}\n",
    "f'(x)   & = & \\displaystyle -\\frac{1}{x^2}  \\\\\n",
    "f'\\left(\\displaystyle 2\\right)  & = &  \\displaystyle -\\frac{1}{4} = -0.25 \\\\\n",
    "\\end{array}\n",
    "$$"
   ]
  },
  {
   "cell_type": "code",
   "execution_count": 11,
   "id": "183e279a",
   "metadata": {},
   "outputs": [
    {
     "name": "stdout",
     "output_type": "stream",
     "text": [
      "Complex function evaluated:\n",
      "f(x^*): (0.5-2.5e-11j)\n",
      "\n",
      "The approximated derivative using CTSE:\n",
      "df_dx:  -0.25\n"
     ]
    }
   ],
   "source": [
    "# >>>>>>>>>>>>>>>>>\n",
    "# ADD YOUR CODE HERE\n",
    "# >>>>>>>>>>>>>>>>>\n",
    "\n",
    "#>>>>>>>>>>>>>>>>>>>>>>>>>>>>>>>>>>>>>>>>>>>>>>>>>>>>>>>>>>>>>>>>>>>\n",
    "\n",
    "# Define the real value\n",
    "x0 = \n",
    "\n",
    "# define the step-size\n",
    "h = \n",
    "\n",
    "# Apply complex perturbation to the number.\n",
    "x = \n",
    "\n",
    "# evaluate the function\n",
    "f_eval = \n",
    "\n",
    "print('Complex function evaluated:')\n",
    "print('f(x^*):',f_eval)\n",
    "\n",
    "# The deivative is obtained by extracting the imaginary coefficient\n",
    "# divided by the step-size.\n",
    "\n",
    "df_dx = \n",
    "\n",
    "#>>>>>>>>>>>>>>>>>>>>>>>>>>>>>>>>>>>>>>>>>>>>>>>>>>>>>>>>>>>>>>>>>>>\n",
    "\n",
    "print()\n",
    "print('The approximated derivative using CTSE:')\n",
    "print('df_dx: ',df_dx)"
   ]
  },
  {
   "cell_type": "markdown",
   "id": "c8ad6557",
   "metadata": {},
   "source": [
    "## Exercise 11\n",
    "\n",
    "Use CTSE to find the derivative of the following function at $x=\\pi/4$\n",
    "\n",
    "$$\n",
    "\\begin{array}{r,c,l}\n",
    "f(x)   & = & \\displaystyle \\sin{(2x^2)}  \\\\\n",
    "f\\left(\\displaystyle \\frac{\\pi}{4} \\right) & \\approx & 0.9437192093283066 \\\\\n",
    "\\end{array}\n",
    "$$\n",
    "\n",
    "Use a step size $h=10^{-10}$.\n",
    "\n",
    "The analytical derivative is given by the following expression\n",
    "\n",
    "$$\n",
    "\\begin{array}{r,c,l}\n",
    "f'(x)   & = & \\displaystyle 4x\\cos{(2x^2)}  \\\\\n",
    "f'\\left(\\displaystyle \\frac{\\pi}{4}\\right)  & \\approx & 1.039074605726735 \\\\\n",
    "\\end{array}\n",
    "$$"
   ]
  },
  {
   "cell_type": "code",
   "execution_count": 12,
   "id": "c4ea1ece",
   "metadata": {},
   "outputs": [
    {
     "name": "stdout",
     "output_type": "stream",
     "text": [
      "Complex function evaluated:\n",
      "f(x^*): (0.9437192093283066+1.0390746057267351e-10j)\n",
      "\n",
      "The approximated derivative using CTSE:\n",
      "df_dx:  1.039074605726735\n"
     ]
    }
   ],
   "source": [
    "# >>>>>>>>>>>>>>>>>\n",
    "# ADD YOUR CODE HERE\n",
    "# >>>>>>>>>>>>>>>>>\n",
    "\n",
    "#>>>>>>>>>>>>>>>>>>>>>>>>>>>>>>>>>>>>>>>>>>>>>>>>>>>>>>>>>>>>>>>>>>>\n",
    "\n",
    "# Define the real value\n",
    "x0 =\n",
    "\n",
    "# define the step-size\n",
    "h = \n",
    "\n",
    "# Apply complex perturbation to the number.\n",
    "x = \n",
    "\n",
    "# evaluate the function\n",
    "f_eval = \n",
    "\n",
    "print('Complex function evaluated:')\n",
    "print('f(x^*):',f_eval)\n",
    "\n",
    "# The deivative is obtained by extracting the imaginary coefficient\n",
    "# divided by the step-size.\n",
    "\n",
    "df_dx = \n",
    "\n",
    "#>>>>>>>>>>>>>>>>>>>>>>>>>>>>>>>>>>>>>>>>>>>>>>>>>>>>>>>>>>>>>>>>>>>\n",
    "\n",
    "print()\n",
    "print('The approximated derivative using CTSE:')\n",
    "print('df_dx: ',df_dx)"
   ]
  },
  {
   "cell_type": "markdown",
   "id": "bc217d08",
   "metadata": {},
   "source": [
    "## Exercise 12\n",
    "\n",
    "Use CTSE to find the derivative of the following function at $x=3$\n",
    "\n",
    "$$\n",
    "\\begin{array}{r,c,l}\n",
    "f(x)   & = & \\displaystyle \\sqrt{x}  \\\\\n",
    "f\\left(\\displaystyle 3 \\right) &  \\approx & 1.7320508075688772 \\\\\n",
    "\\end{array}\n",
    "$$\n",
    "\n",
    "Use a step size $h=10^{-10}$.\n",
    "\n",
    "The analytical derivative is given by the following expression\n",
    "\n",
    "$$\n",
    "\\begin{array}{r,c,l}\n",
    "f'(x)   & = & \\displaystyle \\frac{1}{2\\sqrt{x}}  \\\\\n",
    "f'\\left(\\displaystyle 3\\right)  & \\approx & 0.2886751345948129 \\\\\n",
    "\\end{array}\n",
    "$$"
   ]
  },
  {
   "cell_type": "code",
   "execution_count": 13,
   "id": "889e6622",
   "metadata": {},
   "outputs": [
    {
     "name": "stdout",
     "output_type": "stream",
     "text": [
      "Complex function evaluated:\n",
      "f(x^*): (1.7320508075688772+2.886751345948129e-11j)\n",
      "\n",
      "The approximated derivative using CTSE:\n",
      "df_dx:  0.28867513459481287\n"
     ]
    }
   ],
   "source": [
    "# >>>>>>>>>>>>>>>>>\n",
    "# ADD YOUR CODE HERE\n",
    "# >>>>>>>>>>>>>>>>>\n",
    "\n",
    "#>>>>>>>>>>>>>>>>>>>>>>>>>>>>>>>>>>>>>>>>>>>>>>>>>>>>>>>>>>>>>>>>>>>\n",
    "\n",
    "# Define the real value\n",
    "x0 = \n",
    "\n",
    "# define the step-size\n",
    "h = \n",
    "\n",
    "# Apply complex perturbation to the number.\n",
    "x = \n",
    "\n",
    "# evaluate the function\n",
    "f_eval = \n",
    "\n",
    "print('Complex function evaluated:')\n",
    "print('f(x^*):',f_eval)\n",
    "\n",
    "# The deivative is obtained by extracting the imaginary coefficient\n",
    "# divided by the step-size.\n",
    "\n",
    "df_dx = \n",
    "\n",
    "#>>>>>>>>>>>>>>>>>>>>>>>>>>>>>>>>>>>>>>>>>>>>>>>>>>>>>>>>>>>>>>>>>>>\n",
    "\n",
    "print()\n",
    "print('The approximated derivative using CTSE:')\n",
    "print('df_dx: ',df_dx)"
   ]
  },
  {
   "cell_type": "markdown",
   "id": "767b3899",
   "metadata": {},
   "source": [
    "## Exercise 13\n",
    "\n",
    "Use CTSE to find the derivative of the following function at $x=1/3$\n",
    "\n",
    "$$\n",
    "\\begin{array}{r,c,l}\n",
    "f(x)   & = & \\displaystyle e^{{x^2}}  \\\\\n",
    "f\\left(\\displaystyle \\frac{1}{3} \\right) & \\approx &  1.1175190687418637 \\\\\n",
    "\\end{array}\n",
    "$$\n",
    "\n",
    "Use a step size $h=10^{-10}$.\n",
    "\n",
    "The analytical derivative is given by the following expression\n",
    "\n",
    "$$\n",
    "\\begin{array}{r,c,l}\n",
    "f'(x)   & = & \\displaystyle 2xe^{x^2}  \\\\\n",
    "f'\\left(\\displaystyle \\frac{1}{3}\\right)  & \\approx & 0.7450127124945758 \\\\\n",
    "\\end{array}\n",
    "$$"
   ]
  },
  {
   "cell_type": "code",
   "execution_count": 14,
   "id": "e3878abb",
   "metadata": {},
   "outputs": [
    {
     "name": "stdout",
     "output_type": "stream",
     "text": [
      "Complex function evaluated:\n",
      "f(x^*): (1.1175190687418637+7.450127124945758e-11j)\n",
      "\n",
      "The approximated derivative using CTSE:\n",
      "df_dx:  0.7450127124945758\n"
     ]
    }
   ],
   "source": [
    "# >>>>>>>>>>>>>>>>>\n",
    "# ADD YOUR CODE HERE\n",
    "# >>>>>>>>>>>>>>>>>\n",
    "\n",
    "#>>>>>>>>>>>>>>>>>>>>>>>>>>>>>>>>>>>>>>>>>>>>>>>>>>>>>>>>>>>>>>>>>>>\n",
    "\n",
    "# Define the real value\n",
    "x0 =\n",
    "\n",
    "# define the step-size\n",
    "h = \n",
    "\n",
    "# Apply complex perturbation to the number.\n",
    "x =\n",
    "\n",
    "# evaluate the function\n",
    "f_eval = \n",
    "\n",
    "print('Complex function evaluated:')\n",
    "print('f(x^*):',f_eval)\n",
    "\n",
    "# The deivative is obtained by extracting the imaginary coefficient\n",
    "# divided by the step-size.\n",
    "\n",
    "df_dx = \n",
    "\n",
    "#>>>>>>>>>>>>>>>>>>>>>>>>>>>>>>>>>>>>>>>>>>>>>>>>>>>>>>>>>>>>>>>>>>>\n",
    "\n",
    "print()\n",
    "print('The approximated derivative using CTSE:')\n",
    "print('df_dx: ',df_dx)"
   ]
  },
  {
   "cell_type": "markdown",
   "id": "19837864",
   "metadata": {},
   "source": [
    "## Exercise 14\n",
    "\n",
    "Use CTSE to find the derivative of the following function at $x=1.5$\n",
    "\n",
    "$$\n",
    "\\begin{array}{r,c,l}\n",
    "f(x)   & = & \\displaystyle \\frac{e^{x}}{\\sqrt{\\cos(x)^3+\\sin(x)^3}}  \\\\\n",
    "f\\left(\\displaystyle 1.5 \\right) &  \\approx  & 4.497780053946161 \\\\\n",
    "\\end{array}\n",
    "$$\n",
    "\n",
    "Use a step size $h=10^{-10}$.\n",
    "\n",
    "The analytical derivative is given by the following expression\n",
    "\n",
    "$$\n",
    "\\begin{array}{r,c,l}\n",
    "\\displaystyle\\frac{df}{dx}(x)   & = & \\displaystyle  \\frac{e^{x}\\left(3\\cos(x)+5\\cos(3x)+9\\sin(x)+\\sin(3x)\\right)}{8\\sqrt{\\left(\\cos(x)^3+\\sin(x)^3\\right)^3}}  \\\\\n",
    "\\displaystyle\\frac{df}{dx}\\left(\\displaystyle  1.5 \\right)  & \\approx &   4.05342789389862 \\\\\n",
    "\\end{array}\n",
    "$$"
   ]
  },
  {
   "cell_type": "code",
   "execution_count": 15,
   "id": "7506db67",
   "metadata": {},
   "outputs": [
    {
     "name": "stdout",
     "output_type": "stream",
     "text": [
      "Complex function evaluated:\n",
      "f(x^*): (4.497780053946162+4.0534278938986206e-10j)\n",
      "\n",
      "The approximated derivative using CTSE:\n",
      "df_dx:  4.05342789389862\n"
     ]
    }
   ],
   "source": [
    "# >>>>>>>>>>>>>>>>>\n",
    "# ADD YOUR CODE HERE\n",
    "# >>>>>>>>>>>>>>>>>\n",
    "\n",
    "#>>>>>>>>>>>>>>>>>>>>>>>>>>>>>>>>>>>>>>>>>>>>>>>>>>>>>>>>>>>>>>>>>>>\n",
    "\n",
    "# Define the real value\n",
    "x0 = \n",
    "\n",
    "# define the step-size\n",
    "h = \n",
    "\n",
    "# Apply complex perturbation to the number.\n",
    "x = \n",
    "\n",
    "# evaluate the function\n",
    "f_eval = \n",
    "\n",
    "print('Complex function evaluated:')\n",
    "print('f(x^*):',f_eval)\n",
    "\n",
    "# The deivative is obtained by extracting the imaginary coefficient\n",
    "# divided by the step-size.\n",
    "\n",
    "df_dx = \n",
    "\n",
    "#>>>>>>>>>>>>>>>>>>>>>>>>>>>>>>>>>>>>>>>>>>>>>>>>>>>>>>>>>>>>>>>>>>>\n",
    "\n",
    "print()\n",
    "print('The approximated derivative using CTSE:')\n",
    "print('df_dx: ',df_dx)"
   ]
  },
  {
   "cell_type": "markdown",
   "id": "6e1cf6f4",
   "metadata": {},
   "source": [
    "# Exercise 15 (Example)\n",
    "\n",
    "Use CTSE to evaluate the derivative of the following function in the interval $ 0 \\leq x \\leq \\pi/2 $ \n",
    "\n",
    "$$\n",
    "\\begin{array}{r,c,l}\n",
    "f(x)   & = & \\displaystyle \\frac{e^{x}}{\\sqrt{\\cos(x)^3+\\sin(x)^3}}  \\\\\n",
    "\\end{array}\n",
    "$$\n",
    "\n",
    "compare against the analytical derivative given below\n",
    "\n",
    "$$\n",
    "\\begin{array}{r,c,l}\n",
    "\\displaystyle\\frac{df}{dx}(x)   & = & \\displaystyle  \\frac{e^{x}\\left(3\\cos(x)+5\\cos(3x)+9\\sin(x)+\\sin(3x)\\right)}{8\\sqrt{\\left(\\cos(x)^3+\\sin(x)^3\\right)^3}}  \n",
    "\\end{array}\n",
    "$$\n",
    "\n",
    "Plot the results using the provided code. Is CTSE capable of computing a visually accurate derivative for all points?\n",
    "\n",
    "1. Implement $f(x)$ using ```numpy``` functions.\n",
    "\n",
    "Complete the code below using the functions ```cos```, ```sin```, ```sqrt``` and ```exp``` from the ```numpy``` library. Only modify the code between the marked lines."
   ]
  },
  {
   "cell_type": "code",
   "execution_count": 12,
   "id": "d7b6676a",
   "metadata": {},
   "outputs": [],
   "source": [
    "def f_15(x):\n",
    "    '''\n",
    "    Code a subrutine that implements the analytical function in exercise 15.\n",
    "    \n",
    "    INPUTS:\n",
    "    - x: scalar or array, points at which the function is evaluated.\n",
    "    \n",
    "    OUTPUTS:\n",
    "      This function returns a single object with the function evaluated \n",
    "      at point (or points) specified in x.\n",
    "    \n",
    "    Note: Use numpy functions to support real and complex algebra.\n",
    "    '''\n",
    "    # >>>>>>>>>>>>>>>>>>>>>>>>>>>>>>>>>>>>>>>>\n",
    "    # Add your code here\n",
    "    \n",
    "    f = exp(x)/sqrt( cos(x)**3 + sin(x)**3)\n",
    "    \n",
    "    # do not modify the code below.\n",
    "    # <<<<<<<<<<<<<<<<<<<<<<<<<<<<<<<<<<<<<<<<\n",
    "    \n",
    "    return f\n",
    "\n",
    "# end function\n",
    "\n",
    "def dfdx_15(x):\n",
    "    '''\n",
    "    Implements the analytical derivative of the function in exercise 15.\n",
    "    \n",
    "    INPUTS:\n",
    "    - x: scalar or array, points at which the function is evaluated.\n",
    "    \n",
    "    OUTPUTS:\n",
    "      This function returns a single object with the function evaluated \n",
    "      at point (or points) specified in x.\n",
    "    \n",
    "    '''\n",
    "    dfdx = exp(x)*(3*cos(x)+5*cos(3*x)+9*sin(x)+sin(3*x))/(8*sqrt(( cos(x)**3 + sin(x)**3)**3))    \n",
    "    return dfdx\n",
    "# end function"
   ]
  },
  {
   "cell_type": "markdown",
   "id": "94c904b9",
   "metadata": {},
   "source": [
    "2. Create the array of values at which to evaluate the derivative and the function in the range $ 0 \\leq x \\leq \\pi/2 $. Create a minimum of 50 points."
   ]
  },
  {
   "cell_type": "code",
   "execution_count": 13,
   "id": "3ff05ece",
   "metadata": {},
   "outputs": [],
   "source": [
    "# Define the number of points to evaluate the function at.\n",
    "n_points = 50\n",
    "\n",
    "# >>>>>>>>>>>>>>>>>>>>>>>>>>>>>>>>>>>>>>>>\n",
    "# Add your code here\n",
    "\n",
    "x_min = 0\n",
    "x_max = pi / 2.0\n",
    "\n",
    "# do not modify the code below.\n",
    "# <<<<<<<<<<<<<<<<<<<<<<<<<<<<<<<<<<<<<<<<\n",
    "\n",
    "# Create the array of x-values to plot the result .\n",
    "x_plot = np.linspace(x_min, x_max,n_points)"
   ]
  },
  {
   "cell_type": "markdown",
   "id": "9aea8d3d",
   "metadata": {},
   "source": [
    "3. Modify the code below such that CTSE is used correctly to compute both the function and its derivative by evaluating **only once** the function ```f_15``` "
   ]
  },
  {
   "cell_type": "code",
   "execution_count": 14,
   "id": "1fb1b036",
   "metadata": {},
   "outputs": [],
   "source": [
    "# >>>>>>>>>>>>>>>>>>>>>>>>>>>>>>>>>>>>>>>>\n",
    "# Modify the code here\n",
    "\n",
    "# step-size.\n",
    "h = 1e-1\n",
    "\n",
    "f_cmx = f_15( x_plot + h*1j )\n",
    "\n",
    "# Extract the real and imaginary parts to retrieve the function and derivative.\n",
    "f_ctse    = f_cmx.real\n",
    "dfdx_ctse = f_cmx.imag/h\n",
    "\n",
    "# do not modify the code below.\n",
    "# <<<<<<<<<<<<<<<<<<<<<<<<<<<<<<<<<<<<<<<<"
   ]
  },
  {
   "cell_type": "markdown",
   "id": "613168b1",
   "metadata": {},
   "source": [
    " 4. Finally, run the following code to verify and plot your implementation against the analytical derivative for all the values in ```x_plot```."
   ]
  },
  {
   "cell_type": "code",
   "execution_count": 15,
   "id": "fef1d1dd",
   "metadata": {
    "scrolled": false
   },
   "outputs": [
    {
     "data": {
      "image/png": "[encoded data removed]",
      "text/plain": [
       "<Figure size 432x288 with 1 Axes>"
      ]
     },
     "metadata": {
      "needs_background": "light"
     },
     "output_type": "display_data"
    }
   ],
   "source": [
    "# Evaluate exact function and derivative.\n",
    "f_exact    =    f_15(x_plot)\n",
    "dfdx_exact = dfdx_15(x_plot)\n",
    "\n",
    "# Plot the results for comparison porpuses\n",
    "plt.figure()\n",
    "\n",
    "plt.plot( x_plot,     f_exact, 'C0', label=r'$f(x)$ - exact'   )\n",
    "plt.plot( x_plot,  dfdx_exact, 'C1', label=r'$df/dx(x)$- exact')\n",
    "\n",
    "plt.plot( x_plot,     f_ctse, '.C0', label=r'$Re[f(x+h i)]$'   )\n",
    "plt.plot( x_plot,  dfdx_ctse, 'xC1', label=r'$Im[f(x+h i)]/h$' )\n",
    "\n",
    "plt.xlabel('x')\n",
    "plt.grid()\n",
    "plt.legend()\n",
    "\n",
    "plt.show()"
   ]
  },
  {
   "cell_type": "code",
   "execution_count": null,
   "id": "7b159e75",
   "metadata": {},
   "outputs": [],
   "source": []
  },
  {
   "cell_type": "markdown",
   "id": "8adf604f",
   "metadata": {},
   "source": [
    "# Exercise 16\n",
    "\n",
    "Use CTSE to evaluate the derivative of the following function in the interval $ 0 \\leq x \\leq 1 $ \n",
    "\n",
    "$$\n",
    "\\begin{array}{r,c,l}\n",
    "f(x)   & = & x^2  \\\\\n",
    "\\end{array}\n",
    "$$\n",
    "\n",
    "compare against the analytical derivative given below\n",
    "\n",
    "$$\n",
    "\\begin{array}{r,c,l}\n",
    "\\displaystyle\\frac{df}{dx}(x)   & = & 2x\n",
    "\\end{array}\n",
    "$$\n",
    "\n",
    "Plot the results using the provided code. Is CTSE capable of computing a visually accurate derivative for all points?\n",
    "\n",
    "1. Implement $f(x)$ using ```numpy``` functions.\n",
    "\n",
    "Only modify the code between the marked lines."
   ]
  },
  {
   "cell_type": "code",
   "execution_count": 7,
   "id": "1fb6f780",
   "metadata": {},
   "outputs": [],
   "source": [
    "def f_16(x):\n",
    "    '''\n",
    "    Code a subrutine that implements the analytical function in exercise 16.\n",
    "    \n",
    "    INPUTS:\n",
    "    - x: scalar or array, points at which the function is evaluated.\n",
    "    \n",
    "    OUTPUTS:\n",
    "      This function returns a single object with the function evaluated \n",
    "      at point (or points) specified in x.\n",
    "    \n",
    "    Note: Use numpy functions to support real and complex algebra.\n",
    "    '''\n",
    "    # >>>>>>>>>>>>>>>>>>>>>>>>>>>>>>>>>>>>>>>>\n",
    "    # Add your code here\n",
    "    \n",
    "    f = \n",
    "    \n",
    "    # do not modify the code below.\n",
    "    # <<<<<<<<<<<<<<<<<<<<<<<<<<<<<<<<<<<<<<<<\n",
    "    \n",
    "    return f\n",
    "\n",
    "# end function\n",
    "\n",
    "def dfdx_16(x):\n",
    "    '''\n",
    "    Implements the analytical derivative of the function in exercise 165.\n",
    "    \n",
    "    INPUTS:\n",
    "    - x: scalar or array, points at which the function is evaluated.\n",
    "    \n",
    "    OUTPUTS:\n",
    "      This function returns a single object with the function evaluated \n",
    "      at point (or points) specified in x.\n",
    "    \n",
    "    '''\n",
    "    dfdx = 2 * x\n",
    "    return dfdx\n",
    "# end function"
   ]
  },
  {
   "cell_type": "markdown",
   "id": "b036fe72",
   "metadata": {},
   "source": [
    "2. Create the array of values at which to evaluate the derivative and the function in the range $ 0 \\leq x \\leq 1 $. Create a minimum of 50 points."
   ]
  },
  {
   "cell_type": "code",
   "execution_count": 8,
   "id": "d076ba74",
   "metadata": {},
   "outputs": [],
   "source": [
    "# Define the number of points to evaluate the function at.\n",
    "n_points = 50\n",
    "\n",
    "# >>>>>>>>>>>>>>>>>>>>>>>>>>>>>>>>>>>>>>>>\n",
    "# Add your code here\n",
    "\n",
    "x_min = \n",
    "x_max = \n",
    "\n",
    "# do not modify the code below.\n",
    "# <<<<<<<<<<<<<<<<<<<<<<<<<<<<<<<<<<<<<<<<\n",
    "\n",
    "# Create the array of x-values to plot the result .\n",
    "x_plot = np.linspace(x_min, x_max,n_points)"
   ]
  },
  {
   "cell_type": "markdown",
   "id": "ffcd59e0",
   "metadata": {},
   "source": [
    "3. Modify the code below such that CTSE is used correctly to compute both the function and its derivative by evaluating **only once** the function ```f_14``` "
   ]
  },
  {
   "cell_type": "code",
   "execution_count": 10,
   "id": "2a7a1555",
   "metadata": {},
   "outputs": [],
   "source": [
    "# >>>>>>>>>>>>>>>>>>>>>>>>>>>>>>>>>>>>>>>>\n",
    "# Modify the code here\n",
    "\n",
    "# step-size.\n",
    "h = \n",
    "\n",
    "f_cmx = \n",
    "\n",
    "# Extract the real and imaginary parts to retrieve the function and derivative.\n",
    "f_ctse    = \n",
    "dfdx_ctse = \n",
    "\n",
    "# do not modify the code below.\n",
    "# <<<<<<<<<<<<<<<<<<<<<<<<<<<<<<<<<<<<<<<<"
   ]
  },
  {
   "cell_type": "markdown",
   "id": "a049c154",
   "metadata": {},
   "source": [
    " 4. Finally, run the following code to verify and plot your implementation against the analytical derivative for all the values in ```x_plot```."
   ]
  },
  {
   "cell_type": "code",
   "execution_count": 11,
   "id": "fbbb44ac",
   "metadata": {
    "scrolled": false
   },
   "outputs": [
    {
     "data": {
      "image/png": "[encoded data removed]",
      "text/plain": [
       "<Figure size 432x288 with 1 Axes>"
      ]
     },
     "metadata": {
      "needs_background": "light"
     },
     "output_type": "display_data"
    }
   ],
   "source": [
    "# Evaluate exact function and derivative.\n",
    "f_exact    =    f_16(x_plot)\n",
    "dfdx_exact = dfdx_16(x_plot)\n",
    "\n",
    "# Plot the results for comparison porpuses\n",
    "plt.figure()\n",
    "\n",
    "plt.plot( x_plot,     f_exact, 'C0', label=r'$f(x)$ - exact'   )\n",
    "plt.plot( x_plot,  dfdx_exact, 'C1', label=r'$df/dx(x)$- exact')\n",
    "\n",
    "plt.plot( x_plot,     f_ctse, '.C0', label=r'$Re[f(x+h i)]$'   )\n",
    "plt.plot( x_plot,  dfdx_ctse, 'xC1', label=r'$Im[f(x+h i)]/h$' )\n",
    "\n",
    "plt.xlabel('x')\n",
    "plt.grid()\n",
    "plt.legend()\n",
    "\n",
    "plt.show()"
   ]
  },
  {
   "cell_type": "code",
   "execution_count": null,
   "id": "b590c284",
   "metadata": {},
   "outputs": [],
   "source": []
  },
  {
   "cell_type": "markdown",
   "id": "2c1e6f9f",
   "metadata": {},
   "source": [
    "# Exercise 17\n",
    "\n",
    "Use CTSE to evaluate the derivative of the following function in the interval $ 0 \\leq x \\leq 1 $ \n",
    "\n",
    "$$\n",
    "\\begin{array}{r,c,l}\n",
    "f(x)   & = & x^3  \\\\\n",
    "\\end{array}\n",
    "$$\n",
    "\n",
    "compare against the analytical derivative given below\n",
    "\n",
    "$$\n",
    "\\begin{array}{r,c,l}\n",
    "\\displaystyle\\frac{df}{dx}(x)   & = & 3x^2\n",
    "\\end{array}\n",
    "$$\n",
    "\n",
    "Plot the results using the provided code. Is CTSE capable of computing a visually accurate derivative for all points?\n",
    "\n",
    "1. Implement $f(x)$ using ```numpy``` functions.\n",
    "\n",
    "Only modify the code between the marked lines."
   ]
  },
  {
   "cell_type": "code",
   "execution_count": 24,
   "id": "63811e71",
   "metadata": {},
   "outputs": [],
   "source": [
    "def f_17(x):\n",
    "    '''\n",
    "    Code a subrutine that implements the analytical function in exercise 17.\n",
    "    \n",
    "    INPUTS:\n",
    "    - x: scalar or array, points at which the function is evaluated.\n",
    "    \n",
    "    OUTPUTS:\n",
    "      This function returns a single object with the function evaluated \n",
    "      at point (or points) specified in x.\n",
    "    \n",
    "    Note: Use numpy functions to support real and complex algebra.\n",
    "    '''\n",
    "    # >>>>>>>>>>>>>>>>>>>>>>>>>>>>>>>>>>>>>>>>\n",
    "    # Add your code here\n",
    "    \n",
    "    f = \n",
    "    \n",
    "    # do not modify the code below.\n",
    "    # <<<<<<<<<<<<<<<<<<<<<<<<<<<<<<<<<<<<<<<<\n",
    "    \n",
    "    return f\n",
    "\n",
    "# end function\n",
    "\n",
    "def dfdx_17(x):\n",
    "    '''\n",
    "    Implements the analytical derivative of the function in exercise 17.\n",
    "    \n",
    "    INPUTS:\n",
    "    - x: scalar or array, points at which the function is evaluated.\n",
    "    \n",
    "    OUTPUTS:\n",
    "      This function returns a single object with the function evaluated \n",
    "      at point (or points) specified in x.\n",
    "    \n",
    "    '''\n",
    "    dfdx = 3 * x**2\n",
    "    return dfdx\n",
    "# end function"
   ]
  },
  {
   "cell_type": "markdown",
   "id": "7ca86f8a",
   "metadata": {},
   "source": [
    "2. Create the array of values at which to evaluate the derivative and the function in the range $ 0 \\leq x \\leq 1 $. Create a minimum of 50 points."
   ]
  },
  {
   "cell_type": "code",
   "execution_count": 74,
   "id": "f9c81caf",
   "metadata": {},
   "outputs": [],
   "source": [
    "# Define the number of points to evaluate the function at.\n",
    "n_points = 50\n",
    "\n",
    "# >>>>>>>>>>>>>>>>>>>>>>>>>>>>>>>>>>>>>>>>\n",
    "# Add your code here\n",
    "\n",
    "x_min = \n",
    "x_max = \n",
    "\n",
    "# do not modify the code below.\n",
    "# <<<<<<<<<<<<<<<<<<<<<<<<<<<<<<<<<<<<<<<<\n",
    "\n",
    "# Create the array of x-values to plot the result .\n",
    "x_plot = np.linspace(x_min, x_max,n_points)"
   ]
  },
  {
   "cell_type": "markdown",
   "id": "efa21dd3",
   "metadata": {},
   "source": [
    "3. Modify the code below such that CTSE is used correctly to compute both the function and its derivative by evaluating **only once** the function ```f_17``` "
   ]
  },
  {
   "cell_type": "code",
   "execution_count": 75,
   "id": "bd1cb1ae",
   "metadata": {},
   "outputs": [],
   "source": [
    "# >>>>>>>>>>>>>>>>>>>>>>>>>>>>>>>>>>>>>>>>\n",
    "# Modify the code here\n",
    "\n",
    "# step-size.\n",
    "h = \n",
    "\n",
    "f_cmx = \n",
    "\n",
    "# Extract the real and imaginary parts to retrieve the function and derivative.\n",
    "f_ctse    = \n",
    "dfdx_ctse = \n",
    "\n",
    "# do not modify the code below.\n",
    "# <<<<<<<<<<<<<<<<<<<<<<<<<<<<<<<<<<<<<<<<"
   ]
  },
  {
   "cell_type": "markdown",
   "id": "29857808",
   "metadata": {},
   "source": [
    " 4. Finally, run the following code to verify and plot your implementation against the analytical derivative for all the values in ```x_plot```."
   ]
  },
  {
   "cell_type": "code",
   "execution_count": 76,
   "id": "1a7ce1ae",
   "metadata": {
    "scrolled": false
   },
   "outputs": [
    {
     "data": {
      "image/png": "[encoded data removed]",
      "text/plain": [
       "<Figure size 432x288 with 1 Axes>"
      ]
     },
     "metadata": {
      "needs_background": "light"
     },
     "output_type": "display_data"
    }
   ],
   "source": [
    "# Evaluate exact function and derivative.\n",
    "f_exact    =    f_17(x_plot)\n",
    "dfdx_exact = dfdx_17(x_plot)\n",
    "\n",
    "# Plot the results for comparison porpuses\n",
    "plt.figure()\n",
    "\n",
    "plt.plot( x_plot,     f_exact, 'C0', label=r'$f(x)$ - exact'   )\n",
    "plt.plot( x_plot,  dfdx_exact, 'C1', label=r'$df/dx(x)$- exact')\n",
    "\n",
    "plt.plot( x_plot,     f_ctse, '.C0', label=r'$Re[f(x+h i)]$'   )\n",
    "plt.plot( x_plot,  dfdx_ctse, 'xC1', label=r'$Im[f(x+h i)]/h$' )\n",
    "\n",
    "plt.xlabel('x')\n",
    "plt.grid()\n",
    "plt.legend()\n",
    "\n",
    "plt.show()"
   ]
  },
  {
   "cell_type": "code",
   "execution_count": null,
   "id": "97f241d5",
   "metadata": {},
   "outputs": [],
   "source": []
  },
  {
   "cell_type": "markdown",
   "id": "8ff54e41",
   "metadata": {},
   "source": [
    "# Exercise 18\n",
    "\n",
    "Use CTSE to evaluate the derivative of the following function in the interval $ 0 \\leq x \\leq 1 $ \n",
    "\n",
    "$$\n",
    "\\begin{array}{r,c,l}\n",
    "f(x)   & = & e^x  \\\\\n",
    "\\end{array}\n",
    "$$\n",
    "\n",
    "compare against the analytical derivative given below\n",
    "\n",
    "$$\n",
    "\\begin{array}{r,c,l}\n",
    "\\displaystyle\\frac{df}{dx}(x)   & = & e^x\n",
    "\\end{array}\n",
    "$$\n",
    "\n",
    "Plot the results using the provided code. Is CTSE capable of computing a visually accurate derivative for all points?\n",
    "\n",
    "1. Implement $f(x)$ using ```numpy``` functions.\n",
    "\n",
    "Complete the code below using the functions ```cos```, ```sin```, ```sqrt``` and ```exp``` from the ```numpy``` library. Only modify the code between the marked lines."
   ]
  },
  {
   "cell_type": "code",
   "execution_count": 28,
   "id": "3b9662ae",
   "metadata": {},
   "outputs": [],
   "source": [
    "def f_18(x):\n",
    "    '''\n",
    "    Code a subrutine that implements the analytical function in exercise 18.\n",
    "    \n",
    "    INPUTS:\n",
    "    - x: scalar or array, points at which the function is evaluated.\n",
    "    \n",
    "    OUTPUTS:\n",
    "      This function returns a single object with the function evaluated \n",
    "      at point (or points) specified in x.\n",
    "    \n",
    "    Note: Use numpy functions to support real and complex algebra.\n",
    "    '''\n",
    "    # >>>>>>>>>>>>>>>>>>>>>>>>>>>>>>>>>>>>>>>>\n",
    "    # Add your code here\n",
    "    \n",
    "    f = \n",
    "    \n",
    "    # do not modify the code below.\n",
    "    # <<<<<<<<<<<<<<<<<<<<<<<<<<<<<<<<<<<<<<<<\n",
    "    \n",
    "    return f\n",
    "\n",
    "# end function\n",
    "\n",
    "def dfdx_18(x):\n",
    "    '''\n",
    "    Implements the analytical derivative of the function in exercise 18.\n",
    "    \n",
    "    INPUTS:\n",
    "    - x: scalar or array, points at which the function is evaluated.\n",
    "    \n",
    "    OUTPUTS:\n",
    "      This function returns a single object with the function evaluated \n",
    "      at point (or points) specified in x.\n",
    "    \n",
    "    '''\n",
    "    dfdx = exp(x)\n",
    "    return dfdx\n",
    "# end function"
   ]
  },
  {
   "cell_type": "markdown",
   "id": "43743641",
   "metadata": {},
   "source": [
    "2. Create the array of values at which to evaluate the derivative and the function in the range $ 0 \\leq x \\leq 1 $. Create a minimum of 50 points."
   ]
  },
  {
   "cell_type": "code",
   "execution_count": 71,
   "id": "dbae17e9",
   "metadata": {},
   "outputs": [],
   "source": [
    "# Define the number of points to evaluate the function at.\n",
    "n_points = 50\n",
    "\n",
    "# >>>>>>>>>>>>>>>>>>>>>>>>>>>>>>>>>>>>>>>>\n",
    "# Add your code here\n",
    "\n",
    "x_min = \n",
    "x_max = \n",
    "\n",
    "# do not modify the code below.\n",
    "# <<<<<<<<<<<<<<<<<<<<<<<<<<<<<<<<<<<<<<<<\n",
    "\n",
    "# Create the array of x-values to plot the result .\n",
    "x_plot = np.linspace(x_min, x_max,n_points)"
   ]
  },
  {
   "cell_type": "markdown",
   "id": "aae7cc45",
   "metadata": {},
   "source": [
    "3. Modify the code below such that CTSE is used correctly to compute both the function and its derivative by evaluating **only once** the function ```f_18``` "
   ]
  },
  {
   "cell_type": "code",
   "execution_count": 72,
   "id": "7248d72d",
   "metadata": {},
   "outputs": [],
   "source": [
    "# >>>>>>>>>>>>>>>>>>>>>>>>>>>>>>>>>>>>>>>>\n",
    "# Modify the code here\n",
    "\n",
    "# step-size.\n",
    "h =\n",
    "\n",
    "f_cmx = \n",
    "\n",
    "# Extract the real and imaginary parts to retrieve the function and derivative.\n",
    "f_ctse    = \n",
    "dfdx_ctse = \n",
    "\n",
    "# do not modify the code below.\n",
    "# <<<<<<<<<<<<<<<<<<<<<<<<<<<<<<<<<<<<<<<<"
   ]
  },
  {
   "cell_type": "markdown",
   "id": "317244b7",
   "metadata": {},
   "source": [
    " 4. Finally, run the following code to verify and plot your implementation against the analytical derivative for all the values in ```x_plot```."
   ]
  },
  {
   "cell_type": "code",
   "execution_count": 73,
   "id": "a8631e52",
   "metadata": {
    "scrolled": false
   },
   "outputs": [
    {
     "data": {
      "image/png": "[encoded data removed]",
      "text/plain": [
       "<Figure size 432x288 with 1 Axes>"
      ]
     },
     "metadata": {
      "needs_background": "light"
     },
     "output_type": "display_data"
    }
   ],
   "source": [
    "# Evaluate exact function and derivative.\n",
    "f_exact    =    f_18(x_plot)\n",
    "dfdx_exact = dfdx_18(x_plot)\n",
    "\n",
    "# Plot the results for comparison porpuses\n",
    "plt.figure()\n",
    "\n",
    "plt.plot( x_plot,     f_exact, 'C0', label=r'$f(x)$ - exact'   )\n",
    "plt.plot( x_plot,  dfdx_exact, 'C1', label=r'$df/dx(x)$- exact')\n",
    "\n",
    "plt.plot( x_plot,     f_ctse, '.C0', label=r'$Re[f(x+h i)]$'   )\n",
    "plt.plot( x_plot,  dfdx_ctse, 'xC1', label=r'$Im[f(x+h i)]/h$' )\n",
    "\n",
    "plt.xlabel('x')\n",
    "plt.grid()\n",
    "plt.legend()\n",
    "\n",
    "plt.show()"
   ]
  },
  {
   "cell_type": "code",
   "execution_count": null,
   "id": "3002e188",
   "metadata": {},
   "outputs": [],
   "source": []
  },
  {
   "cell_type": "markdown",
   "id": "85e6520a",
   "metadata": {},
   "source": [
    "# Exercise 19\n",
    "\n",
    "Use CTSE to evaluate the derivative of the following function in the interval $ 0 \\leq x \\leq 2\\pi $ \n",
    "\n",
    "$$\n",
    "\\begin{array}{r,c,l}\n",
    "f(x)   & = & \\sin(x)  \\\\\n",
    "\\end{array}\n",
    "$$\n",
    "\n",
    "compare against the analytical derivative given below\n",
    "\n",
    "$$\n",
    "\\begin{array}{r,c,l}\n",
    "\\displaystyle\\frac{df}{dx}(x)   & = & \\cos(x)\n",
    "\\end{array}\n",
    "$$\n",
    "\n",
    "Plot the results using the provided code. Is CTSE capable of computing a visually accurate derivative for all points?\n",
    "\n",
    "1. Implement $f(x)$ using ```numpy``` functions.\n",
    "\n",
    "Complete the code below using the functions ```cos```, ```sin```, ```sqrt``` and ```exp``` from the ```numpy``` library. Only modify the code between the marked lines."
   ]
  },
  {
   "cell_type": "code",
   "execution_count": 67,
   "id": "f3254a23",
   "metadata": {},
   "outputs": [],
   "source": [
    "def f_19(x):\n",
    "    '''\n",
    "    Code a subrutine that implements the analytical function in exercise 19.\n",
    "    \n",
    "    INPUTS:\n",
    "    - x: scalar or array, points at which the function is evaluated.\n",
    "    \n",
    "    OUTPUTS:\n",
    "      This function returns a single object with the function evaluated \n",
    "      at point (or points) specified in x.\n",
    "    \n",
    "    Note: Use numpy functions to support real and complex algebra.\n",
    "    '''\n",
    "    # >>>>>>>>>>>>>>>>>>>>>>>>>>>>>>>>>>>>>>>>\n",
    "    # Add your code here\n",
    "    \n",
    "    f = \n",
    "    \n",
    "    # do not modify the code below.\n",
    "    # <<<<<<<<<<<<<<<<<<<<<<<<<<<<<<<<<<<<<<<<\n",
    "    \n",
    "    return f\n",
    "\n",
    "# end function\n",
    "\n",
    "def dfdx_19(x):\n",
    "    '''\n",
    "    Implements the analytical derivative of the function in exercise 19.\n",
    "    \n",
    "    INPUTS:\n",
    "    - x: scalar or array, points at which the function is evaluated.\n",
    "    \n",
    "    OUTPUTS:\n",
    "      This function returns a single object with the function evaluated \n",
    "      at point (or points) specified in x.\n",
    "    \n",
    "    '''\n",
    "    dfdx = cos(x)\n",
    "    return dfdx\n",
    "# end function"
   ]
  },
  {
   "cell_type": "markdown",
   "id": "dd8d7c69",
   "metadata": {},
   "source": [
    "2. Create the array of values at which to evaluate the derivative and the function in the range $ 0 \\leq x \\leq 2\\pi $. Create a minimum of 50 points."
   ]
  },
  {
   "cell_type": "code",
   "execution_count": 68,
   "id": "66418638",
   "metadata": {},
   "outputs": [],
   "source": [
    "# Define the number of points to evaluate the function at.\n",
    "n_points = 50\n",
    "\n",
    "# >>>>>>>>>>>>>>>>>>>>>>>>>>>>>>>>>>>>>>>>\n",
    "# Add your code here\n",
    "\n",
    "x_min = \n",
    "x_max = \n",
    "\n",
    "# do not modify the code below.\n",
    "# <<<<<<<<<<<<<<<<<<<<<<<<<<<<<<<<<<<<<<<<\n",
    "\n",
    "# Create the array of x-values to plot the result .\n",
    "x_plot = np.linspace(x_min, x_max,n_points)"
   ]
  },
  {
   "cell_type": "markdown",
   "id": "7ae4c521",
   "metadata": {},
   "source": [
    "3. Modify the code below such that CTSE is used correctly to compute both the function and its derivative by evaluating **only once** the function ```f_19``` "
   ]
  },
  {
   "cell_type": "code",
   "execution_count": 69,
   "id": "d41a1b3b",
   "metadata": {},
   "outputs": [],
   "source": [
    "# >>>>>>>>>>>>>>>>>>>>>>>>>>>>>>>>>>>>>>>>\n",
    "# Modify the code here\n",
    "\n",
    "# step-size.\n",
    "h = \n",
    "\n",
    "f_cmx = \n",
    "\n",
    "# Extract the real and imaginary parts to retrieve the function and derivative.\n",
    "f_ctse    = \n",
    "dfdx_ctse = \n",
    "\n",
    "# do not modify the code below.\n",
    "# <<<<<<<<<<<<<<<<<<<<<<<<<<<<<<<<<<<<<<<<"
   ]
  },
  {
   "cell_type": "markdown",
   "id": "d5dcdc21",
   "metadata": {},
   "source": [
    " 4. Finally, run the following code to verify and plot your implementation against the analytical derivative for all the values in ```x_plot```."
   ]
  },
  {
   "cell_type": "code",
   "execution_count": 70,
   "id": "94698a31",
   "metadata": {
    "scrolled": false
   },
   "outputs": [
    {
     "data": {
      "image/png": "[encoded data removed]",
      "text/plain": [
       "<Figure size 432x288 with 1 Axes>"
      ]
     },
     "metadata": {
      "needs_background": "light"
     },
     "output_type": "display_data"
    }
   ],
   "source": [
    "# Evaluate exact function and derivative.\n",
    "f_exact    =    f_19(x_plot)\n",
    "dfdx_exact = dfdx_19(x_plot)\n",
    "\n",
    "# Plot the results for comparison porpuses\n",
    "plt.figure()\n",
    "\n",
    "plt.plot( x_plot,     f_exact, 'C0', label=r'$f(x)$ - exact'   )\n",
    "plt.plot( x_plot,  dfdx_exact, 'C1', label=r'$df/dx(x)$- exact')\n",
    "\n",
    "plt.plot( x_plot,     f_ctse, '.C0', label=r'$Re[f(x+h i)]$'   )\n",
    "plt.plot( x_plot,  dfdx_ctse, 'xC1', label=r'$Im[f(x+h i)]/h$' )\n",
    "\n",
    "# Change ticks to be multiples of pi\n",
    "theta = np.arange(0, 2 * pi+pi/2, step=(pi / 2))\n",
    "plt.xticks(theta, [ '0', 'π/2', 'π', '3π/2', '2π'])\n",
    "\n",
    "plt.xlabel('x')\n",
    "plt.grid()\n",
    "plt.legend()\n",
    "\n",
    "plt.show()"
   ]
  },
  {
   "cell_type": "code",
   "execution_count": null,
   "id": "7fb41d18",
   "metadata": {},
   "outputs": [],
   "source": []
  },
  {
   "cell_type": "markdown",
   "id": "15d54fcc",
   "metadata": {},
   "source": [
    "# Exercise 20\n",
    "\n",
    "Use CTSE to evaluate the derivative of the following function in the interval $ 0 \\leq x \\leq 2\\pi $ \n",
    "\n",
    "$$\n",
    "\\begin{array}{r,c,l}\n",
    "f(x)   & = & \\cos(x)  \\\\\n",
    "\\end{array}\n",
    "$$\n",
    "\n",
    "compare against the analytical derivative given below\n",
    "\n",
    "$$\n",
    "\\begin{array}{r,c,l}\n",
    "\\displaystyle\\frac{df}{dx}(x)   & = & -\\sin(x)\n",
    "\\end{array}\n",
    "$$\n",
    "\n",
    "Plot the results using the provided code. Is CTSE capable of computing a visually accurate derivative for all points?\n",
    "\n",
    "1. Implement $f(x)$ using ```numpy``` functions.\n",
    "\n",
    "Complete the code below using the functions ```cos```, ```sin```, ```sqrt``` and ```exp``` from the ```numpy``` library. Only modify the code between the marked lines."
   ]
  },
  {
   "cell_type": "code",
   "execution_count": 63,
   "id": "02b52711",
   "metadata": {},
   "outputs": [],
   "source": [
    "def f_20(x):\n",
    "    '''\n",
    "    Code a subrutine that implements the analytical function in exercise 20.\n",
    "    \n",
    "    INPUTS:\n",
    "    - x: scalar or array, points at which the function is evaluated.\n",
    "    \n",
    "    OUTPUTS:\n",
    "      This function returns a single object with the function evaluated \n",
    "      at point (or points) specified in x.\n",
    "    \n",
    "    Note: Use numpy functions to support real and complex algebra.\n",
    "    '''\n",
    "    # >>>>>>>>>>>>>>>>>>>>>>>>>>>>>>>>>>>>>>>>\n",
    "    # Add your code here\n",
    "    \n",
    "    f = \n",
    "    \n",
    "    # do not modify the code below.\n",
    "    # <<<<<<<<<<<<<<<<<<<<<<<<<<<<<<<<<<<<<<<<\n",
    "    \n",
    "    return f\n",
    "\n",
    "# end function\n",
    "\n",
    "def dfdx_20(x):\n",
    "    '''\n",
    "    Implements the analytical derivative of the function in exercise 20.\n",
    "    \n",
    "    INPUTS:\n",
    "    - x: scalar or array, points at which the function is evaluated.\n",
    "    \n",
    "    OUTPUTS:\n",
    "      This function returns a single object with the function evaluated \n",
    "      at point (or points) specified in x.\n",
    "    \n",
    "    '''\n",
    "    dfdx = -sin(x)\n",
    "    return dfdx\n",
    "# end function"
   ]
  },
  {
   "cell_type": "markdown",
   "id": "34950627",
   "metadata": {},
   "source": [
    "2. Create the array of values at which to evaluate the derivative and the function in the range $ 0 \\leq x \\leq 2\\pi $. Create a minimum of 50 points."
   ]
  },
  {
   "cell_type": "code",
   "execution_count": 64,
   "id": "bf3e1e88",
   "metadata": {},
   "outputs": [],
   "source": [
    "# Define the number of points to evaluate the function at.\n",
    "n_points = 50\n",
    "\n",
    "# >>>>>>>>>>>>>>>>>>>>>>>>>>>>>>>>>>>>>>>>\n",
    "# Add your code here\n",
    "\n",
    "x_min = \n",
    "x_max = \n",
    "\n",
    "# do not modify the code below.\n",
    "# <<<<<<<<<<<<<<<<<<<<<<<<<<<<<<<<<<<<<<<<\n",
    "\n",
    "# Create the array of x-values to plot the result .\n",
    "x_plot = np.linspace(x_min, x_max,n_points)"
   ]
  },
  {
   "cell_type": "markdown",
   "id": "df2a00ae",
   "metadata": {},
   "source": [
    "3. Modify the code below such that CTSE is used correctly to compute both the function and its derivative by evaluating **only once** the function ```f_19``` "
   ]
  },
  {
   "cell_type": "code",
   "execution_count": 65,
   "id": "015fb1e2",
   "metadata": {},
   "outputs": [],
   "source": [
    "# >>>>>>>>>>>>>>>>>>>>>>>>>>>>>>>>>>>>>>>>\n",
    "# Modify the code here\n",
    "\n",
    "# step-size.\n",
    "h = \n",
    "\n",
    "f_cmx = \n",
    "\n",
    "# Extract the real and imaginary parts to retrieve the function and derivative.\n",
    "f_ctse    = \n",
    "dfdx_ctse = \n",
    "\n",
    "# do not modify the code below.\n",
    "# <<<<<<<<<<<<<<<<<<<<<<<<<<<<<<<<<<<<<<<<"
   ]
  },
  {
   "cell_type": "markdown",
   "id": "7ddff652",
   "metadata": {},
   "source": [
    " 4. Finally, run the following code to verify and plot your implementation against the analytical derivative for all the values in ```x_plot```."
   ]
  },
  {
   "cell_type": "code",
   "execution_count": 66,
   "id": "a9c5376a",
   "metadata": {
    "scrolled": false
   },
   "outputs": [
    {
     "data": {
      "image/png": "[encoded data removed]",
      "text/plain": [
       "<Figure size 432x288 with 1 Axes>"
      ]
     },
     "metadata": {
      "needs_background": "light"
     },
     "output_type": "display_data"
    }
   ],
   "source": [
    "# Evaluate exact function and derivative.\n",
    "f_exact    =    f_20(x_plot)\n",
    "dfdx_exact = dfdx_20(x_plot)\n",
    "\n",
    "# Plot the results for comparison porpuses\n",
    "plt.figure()\n",
    "\n",
    "plt.plot( x_plot,     f_exact, 'C0', label=r'$f(x)$ - exact'   )\n",
    "plt.plot( x_plot,  dfdx_exact, 'C1', label=r'$df/dx(x)$- exact')\n",
    "\n",
    "plt.plot( x_plot,     f_ctse, '.C0', label=r'$Re[f(x+h i)]$'   )\n",
    "plt.plot( x_plot,  dfdx_ctse, 'xC1', label=r'$Im[f(x+h i)]/h$' )\n",
    "\n",
    "# Change ticks to be multiples of pi\n",
    "theta = np.arange(0, 2 * pi+pi/2, step=(pi / 2))\n",
    "plt.xticks(theta, [ '0', 'π/2', 'π', '3π/2', '2π'])\n",
    "\n",
    "plt.xlabel('x')\n",
    "plt.grid()\n",
    "plt.legend()\n",
    "\n",
    "plt.show()"
   ]
  },
  {
   "cell_type": "code",
   "execution_count": null,
   "id": "b4b0b470",
   "metadata": {},
   "outputs": [],
   "source": []
  },
  {
   "cell_type": "markdown",
   "id": "1792d47f",
   "metadata": {},
   "source": [
    "# Exercise 21\n",
    "\n",
    "Use CTSE to evaluate the derivative of the following function in the interval $ 0.1 \\leq x \\leq 1 $ \n",
    "\n",
    "$$\n",
    "\\begin{array}{r,c,l}\n",
    "f(x)   & = & \\ln(x)  \\\\\n",
    "\\end{array}\n",
    "$$\n",
    "\n",
    "compare against the analytical derivative given below\n",
    "\n",
    "$$\n",
    "\\begin{array}{r,c,l}\n",
    "\\displaystyle\\frac{df}{dx}(x)   & = & \\displaystyle\\frac{1}{x}\n",
    "\\end{array}\n",
    "$$\n",
    "\n",
    "Plot the results using the provided code. Is CTSE capable of computing a visually accurate derivative for all points?\n",
    "\n",
    "1. Implement $f(x)$ using ```numpy``` functions.\n",
    "\n",
    "Complete the code below using the functions ```log``` from the ```numpy``` library. Only modify the code between the marked lines."
   ]
  },
  {
   "cell_type": "code",
   "execution_count": 55,
   "id": "b52b1893",
   "metadata": {},
   "outputs": [],
   "source": [
    "def f_21(x):\n",
    "    '''\n",
    "    Code a subrutine that implements the analytical function in exercise 21.\n",
    "    \n",
    "    INPUTS:\n",
    "    - x: scalar or array, points at which the function is evaluated.\n",
    "    \n",
    "    OUTPUTS:\n",
    "      This function returns a single object with the function evaluated \n",
    "      at point (or points) specified in x.\n",
    "    \n",
    "    Note: Use numpy functions to support real and complex algebra.\n",
    "    '''\n",
    "    # >>>>>>>>>>>>>>>>>>>>>>>>>>>>>>>>>>>>>>>>\n",
    "    # Add your code here\n",
    "    \n",
    "    f = \n",
    "    \n",
    "    # do not modify the code below.\n",
    "    # <<<<<<<<<<<<<<<<<<<<<<<<<<<<<<<<<<<<<<<<\n",
    "    \n",
    "    return f\n",
    "\n",
    "# end function\n",
    "\n",
    "def dfdx_21(x):\n",
    "    '''\n",
    "    Implements the analytical derivative of the function in exercise 21.\n",
    "    \n",
    "    INPUTS:\n",
    "    - x: scalar or array, points at which the function is evaluated.\n",
    "    \n",
    "    OUTPUTS:\n",
    "      This function returns a single object with the function evaluated \n",
    "      at point (or points) specified in x.\n",
    "    \n",
    "    '''\n",
    "    dfdx = 1.0/x\n",
    "    return dfdx\n",
    "# end function"
   ]
  },
  {
   "cell_type": "markdown",
   "id": "89b539f8",
   "metadata": {},
   "source": [
    "2. Create the array of values at which to evaluate the derivative and the function in the range $ 0.1 \\leq x \\leq 1 $. Create a minimum of 50 points."
   ]
  },
  {
   "cell_type": "code",
   "execution_count": 56,
   "id": "24f82093",
   "metadata": {},
   "outputs": [],
   "source": [
    "# Define the number of points to evaluate the function at.\n",
    "n_points = 50\n",
    "\n",
    "# >>>>>>>>>>>>>>>>>>>>>>>>>>>>>>>>>>>>>>>>\n",
    "# Add your code here\n",
    "\n",
    "x_min = \n",
    "x_max = \n",
    "\n",
    "# do not modify the code below.\n",
    "# <<<<<<<<<<<<<<<<<<<<<<<<<<<<<<<<<<<<<<<<\n",
    "\n",
    "# Create the array of x-values to plot the result .\n",
    "x_plot = np.linspace(x_min, x_max,n_points)"
   ]
  },
  {
   "cell_type": "markdown",
   "id": "5fef114d",
   "metadata": {},
   "source": [
    "3. Modify the code below such that CTSE is used correctly to compute both the function and its derivative by evaluating **only once** the function ```f_15``` "
   ]
  },
  {
   "cell_type": "code",
   "execution_count": 57,
   "id": "1e70f5f1",
   "metadata": {},
   "outputs": [],
   "source": [
    "# >>>>>>>>>>>>>>>>>>>>>>>>>>>>>>>>>>>>>>>>\n",
    "# Modify the code here\n",
    "\n",
    "# step-size.\n",
    "h = \n",
    "\n",
    "f_cmx = \n",
    "\n",
    "# Extract the real and imaginary parts to retrieve the function and derivative.\n",
    "f_ctse    = \n",
    "dfdx_ctse = \n",
    "\n",
    "# do not modify the code below.\n",
    "# <<<<<<<<<<<<<<<<<<<<<<<<<<<<<<<<<<<<<<<<"
   ]
  },
  {
   "cell_type": "markdown",
   "id": "509acf47",
   "metadata": {},
   "source": [
    " 4. Finally, run the following code to verify and plot your implementation against the analytical derivative for all the values in ```x_plot```."
   ]
  },
  {
   "cell_type": "code",
   "execution_count": 58,
   "id": "64ba988a",
   "metadata": {
    "scrolled": false
   },
   "outputs": [
    {
     "data": {
      "image/png": "[encoded data removed]",
      "text/plain": [
       "<Figure size 432x288 with 1 Axes>"
      ]
     },
     "metadata": {
      "needs_background": "light"
     },
     "output_type": "display_data"
    }
   ],
   "source": [
    "# Evaluate exact function and derivative.\n",
    "f_exact    =    f_21(x_plot)\n",
    "dfdx_exact = dfdx_21(x_plot)\n",
    "\n",
    "# Plot the results for comparison porpuses\n",
    "plt.figure()\n",
    "\n",
    "plt.plot( x_plot,     f_exact, 'C0', label=r'$f(x)$ - exact'   )\n",
    "plt.plot( x_plot,  dfdx_exact, 'C1', label=r'$df/dx(x)$- exact')\n",
    "\n",
    "plt.plot( x_plot,     f_ctse, '.C0', label=r'$Re[f(x+h i)]$'   )\n",
    "plt.plot( x_plot,  dfdx_ctse, 'xC1', label=r'$Im[f(x+h i)]/h$' )\n",
    "\n",
    "plt.xlabel('x')\n",
    "plt.grid()\n",
    "plt.legend()\n",
    "\n",
    "plt.show()"
   ]
  },
  {
   "cell_type": "code",
   "execution_count": null,
   "id": "a1cb98bc",
   "metadata": {},
   "outputs": [],
   "source": []
  },
  {
   "cell_type": "markdown",
   "id": "b63b7a84",
   "metadata": {},
   "source": [
    "# Exercise 22\n",
    "\n",
    "Use CTSE to evaluate the derivative of the following function in the interval $ 0 \\leq x \\leq 1 $ \n",
    "\n",
    "$$\n",
    "\\begin{array}{r,c,l}\n",
    "f(x)   & = & xe^x  \\\\\n",
    "\\end{array}\n",
    "$$\n",
    "\n",
    "compare against the analytical derivative given below\n",
    "\n",
    "$$\n",
    "\\begin{array}{r,c,l}\n",
    "\\displaystyle\\frac{df}{dx}(x)   & = & (1+x)e^x\n",
    "\\end{array}\n",
    "$$\n",
    "\n",
    "Plot the results using the provided code. Is CTSE capable of computing a visually accurate derivative for all points?\n",
    "\n",
    "1. Implement $f(x)$ using ```numpy``` functions.\n",
    "\n",
    "Complete the code below using the functions ```exp``` from the ```numpy``` library. Only modify the code between the marked lines."
   ]
  },
  {
   "cell_type": "code",
   "execution_count": 44,
   "id": "064886be",
   "metadata": {},
   "outputs": [],
   "source": [
    "def f_22(x):\n",
    "    '''\n",
    "    Code a subrutine that implements the analytical function in exercise 22\n",
    "    \n",
    "    INPUTS:\n",
    "    - x: scalar or array, points at which the function is evaluated.\n",
    "    \n",
    "    OUTPUTS:\n",
    "      This function returns a single object with the function evaluated \n",
    "      at point (or points) specified in x.\n",
    "    \n",
    "    Note: Use numpy functions to support real and complex algebra.\n",
    "    '''\n",
    "    # >>>>>>>>>>>>>>>>>>>>>>>>>>>>>>>>>>>>>>>>\n",
    "    # Add your code here\n",
    "    \n",
    "    f = \n",
    "    \n",
    "    # do not modify the code below.\n",
    "    # <<<<<<<<<<<<<<<<<<<<<<<<<<<<<<<<<<<<<<<<\n",
    "    \n",
    "    return f\n",
    "\n",
    "# end function\n",
    "\n",
    "def dfdx_22(x):\n",
    "    '''\n",
    "    Implements the analytical derivative of the function in exercise 22.\n",
    "    \n",
    "    INPUTS:\n",
    "    - x: scalar or array, points at which the function is evaluated.\n",
    "    \n",
    "    OUTPUTS:\n",
    "      This function returns a single object with the function evaluated \n",
    "      at point (or points) specified in x.\n",
    "    \n",
    "    '''\n",
    "    dfdx = (1+x)*exp(x)\n",
    "    return dfdx\n",
    "# end function"
   ]
  },
  {
   "cell_type": "markdown",
   "id": "1b0210f1",
   "metadata": {},
   "source": [
    "2. Create the array of values at which to evaluate the derivative and the function in the range $ 0.1 \\leq x \\leq 1 $. Create a minimum of 50 points."
   ]
  },
  {
   "cell_type": "code",
   "execution_count": 59,
   "id": "8add2784",
   "metadata": {},
   "outputs": [],
   "source": [
    "# Define the number of points to evaluate the function at.\n",
    "n_points = 50\n",
    "\n",
    "# >>>>>>>>>>>>>>>>>>>>>>>>>>>>>>>>>>>>>>>>\n",
    "# Add your code here\n",
    "\n",
    "x_min = \n",
    "x_max = \n",
    "\n",
    "# do not modify the code below.\n",
    "# <<<<<<<<<<<<<<<<<<<<<<<<<<<<<<<<<<<<<<<<\n",
    "\n",
    "# Create the array of x-values to plot the result .\n",
    "x_plot = np.linspace(x_min, x_max,n_points)"
   ]
  },
  {
   "cell_type": "markdown",
   "id": "70633e61",
   "metadata": {},
   "source": [
    "3. Modify the code below such that CTSE is used correctly to compute both the function and its derivative by evaluating **only once** the function ```f_15``` "
   ]
  },
  {
   "cell_type": "code",
   "execution_count": 60,
   "id": "44743cc6",
   "metadata": {},
   "outputs": [],
   "source": [
    "# >>>>>>>>>>>>>>>>>>>>>>>>>>>>>>>>>>>>>>>>\n",
    "# Modify the code here\n",
    "\n",
    "# step-size.\n",
    "h = \n",
    "\n",
    "f_cmx = \n",
    "\n",
    "# Extract the real and imaginary parts to retrieve the function and derivative.\n",
    "f_ctse    = \n",
    "dfdx_ctse = \n",
    "\n",
    "# do not modify the code below.\n",
    "# <<<<<<<<<<<<<<<<<<<<<<<<<<<<<<<<<<<<<<<<"
   ]
  },
  {
   "cell_type": "markdown",
   "id": "7218300d",
   "metadata": {},
   "source": [
    " 4. Finally, run the following code to verify and plot your implementation against the analytical derivative for all the values in ```x_plot```."
   ]
  },
  {
   "cell_type": "code",
   "execution_count": 61,
   "id": "7523d469",
   "metadata": {
    "scrolled": false
   },
   "outputs": [
    {
     "data": {
      "image/png": "[encoded data removed]",
      "text/plain": [
       "<Figure size 432x288 with 1 Axes>"
      ]
     },
     "metadata": {
      "needs_background": "light"
     },
     "output_type": "display_data"
    }
   ],
   "source": [
    "# Evaluate exact function and derivative.\n",
    "f_exact    =    f_22(x_plot)\n",
    "dfdx_exact = dfdx_22(x_plot)\n",
    "\n",
    "# Plot the results for comparison porpuses\n",
    "plt.figure()\n",
    "\n",
    "plt.plot( x_plot,     f_exact, 'C0', label=r'$f(x)$ - exact'   )\n",
    "plt.plot( x_plot,  dfdx_exact, 'C1', label=r'$df/dx(x)$- exact')\n",
    "\n",
    "plt.plot( x_plot,     f_ctse, '.C0', label=r'$Re[f(x+h i)]$'   )\n",
    "plt.plot( x_plot,  dfdx_ctse, 'xC1', label=r'$Im[f(x+h i)]/h$' )\n",
    "\n",
    "plt.xlabel('x')\n",
    "plt.grid()\n",
    "plt.legend()\n",
    "\n",
    "plt.show()"
   ]
  },
  {
   "cell_type": "code",
   "execution_count": null,
   "id": "a426e8f9",
   "metadata": {},
   "outputs": [],
   "source": []
  },
  {
   "cell_type": "markdown",
   "id": "436326b2",
   "metadata": {},
   "source": [
    "# Exercise 23\n",
    "\n",
    "Use CTSE to evaluate the derivative of the following function in the interval $ -1 \\leq x \\leq 1 $ \n",
    "\n",
    "$$\n",
    "\\begin{array}{r,c,l}\n",
    "f(x)   & = &\\displaystyle e^{-\\frac{1}{x^2}}  \\\\\n",
    "\\end{array}\n",
    "$$\n",
    "\n",
    "compare against the analytical derivative given below\n",
    "\n",
    "$$\n",
    "\\begin{array}{r,c,l}\n",
    "\\displaystyle\\frac{df}{dx}(x)   & = & \\displaystyle-\\frac{1}{x^3}e^{-\\frac{1}{x^2}} \n",
    "\\end{array}\n",
    "$$\n",
    "\n",
    "Plot the results using the provided code. Is CTSE capable of computing a visually accurate derivative for all points?\n",
    "\n",
    "1. Implement $f(x)$ using ```numpy``` functions.\n",
    "\n",
    "Complete the code below using the functions ```exp``` from the ```numpy``` library. Only modify the code between the marked lines."
   ]
  },
  {
   "cell_type": "code",
   "execution_count": 2,
   "id": "5e67c748",
   "metadata": {},
   "outputs": [],
   "source": [
    "def f_22(x):\n",
    "    '''\n",
    "    Code a subrutine that implements the analytical function in exercise 22\n",
    "    \n",
    "    INPUTS:\n",
    "    - x: scalar or array, points at which the function is evaluated.\n",
    "    \n",
    "    OUTPUTS:\n",
    "      This function returns a single object with the function evaluated \n",
    "      at point (or points) specified in x.\n",
    "    \n",
    "    Note: Use numpy functions to support real and complex algebra.\n",
    "    '''\n",
    "    # >>>>>>>>>>>>>>>>>>>>>>>>>>>>>>>>>>>>>>>>\n",
    "    # Add your code here\n",
    "    \n",
    "    f = \n",
    "    \n",
    "    # do not modify the code below.\n",
    "    # <<<<<<<<<<<<<<<<<<<<<<<<<<<<<<<<<<<<<<<<\n",
    "    \n",
    "    return f\n",
    "\n",
    "# end function\n",
    "\n",
    "def dfdx_22(x):\n",
    "    '''\n",
    "    Implements the analytical derivative of the function in exercise 22.\n",
    "    \n",
    "    INPUTS:\n",
    "    - x: scalar or array, points at which the function is evaluated.\n",
    "    \n",
    "    OUTPUTS:\n",
    "      This function returns a single object with the function evaluated \n",
    "      at point (or points) specified in x.\n",
    "    \n",
    "    '''\n",
    "    dfdx = (2/x**3)*exp(-1/x**2)\n",
    "    return dfdx\n",
    "# end function"
   ]
  },
  {
   "cell_type": "markdown",
   "id": "c4f6b70e",
   "metadata": {},
   "source": [
    "2. Create the array of values at which to evaluate the derivative and the function in the range $ 0.1 \\leq x \\leq 1 $. Create a minimum of 50 points."
   ]
  },
  {
   "cell_type": "code",
   "execution_count": 6,
   "id": "7609f938",
   "metadata": {},
   "outputs": [],
   "source": [
    "# Define the number of points to evaluate the function at.\n",
    "n_points = 50\n",
    "\n",
    "# >>>>>>>>>>>>>>>>>>>>>>>>>>>>>>>>>>>>>>>>\n",
    "# Add your code here\n",
    "\n",
    "x_min = \n",
    "x_max = \n",
    "\n",
    "# do not modify the code below.\n",
    "# <<<<<<<<<<<<<<<<<<<<<<<<<<<<<<<<<<<<<<<<\n",
    "\n",
    "# Create the array of x-values to plot the result .\n",
    "x_plot = np.linspace(x_min, x_max,n_points)"
   ]
  },
  {
   "cell_type": "markdown",
   "id": "89b9793c",
   "metadata": {},
   "source": [
    "3. Modify the code below such that CTSE is used correctly to compute both the function and its derivative by evaluating **only once** the function ```f_15``` "
   ]
  },
  {
   "cell_type": "code",
   "execution_count": 7,
   "id": "c5c5a06e",
   "metadata": {},
   "outputs": [],
   "source": [
    "# >>>>>>>>>>>>>>>>>>>>>>>>>>>>>>>>>>>>>>>>\n",
    "# Modify the code here\n",
    "\n",
    "# step-size.\n",
    "h = \n",
    "\n",
    "f_cmx = \n",
    "\n",
    "# Extract the real and imaginary parts to retrieve the function and derivative.\n",
    "f_ctse    = \n",
    "dfdx_ctse = \n",
    "\n",
    "# do not modify the code below.\n",
    "# <<<<<<<<<<<<<<<<<<<<<<<<<<<<<<<<<<<<<<<<"
   ]
  },
  {
   "cell_type": "markdown",
   "id": "292b51cb",
   "metadata": {},
   "source": [
    " 4. Finally, run the following code to verify and plot your implementation against the analytical derivative for all the values in ```x_plot```."
   ]
  },
  {
   "cell_type": "code",
   "execution_count": 8,
   "id": "006b461a",
   "metadata": {
    "scrolled": false
   },
   "outputs": [
    {
     "data": {
      "image/png": "[encoded data removed]",
      "text/plain": [
       "<Figure size 432x288 with 1 Axes>"
      ]
     },
     "metadata": {
      "needs_background": "light"
     },
     "output_type": "display_data"
    }
   ],
   "source": [
    "# Evaluate exact function and derivative.\n",
    "f_exact    =    f_22(x_plot)\n",
    "dfdx_exact = dfdx_22(x_plot)\n",
    "\n",
    "# Plot the results for comparison porpuses\n",
    "plt.figure()\n",
    "\n",
    "plt.plot( x_plot,     f_exact, 'C0', label=r'$f(x)$ - exact'   )\n",
    "plt.plot( x_plot,  dfdx_exact, 'C1', label=r'$df/dx(x)$- exact')\n",
    "\n",
    "plt.plot( x_plot,     f_ctse, '.C0', label=r'$Re[f(x+h i)]$'   )\n",
    "plt.plot( x_plot,  dfdx_ctse, 'xC1', label=r'$Im[f(x+h i)]/h$' )\n",
    "\n",
    "plt.xlabel('x')\n",
    "plt.grid()\n",
    "plt.legend()\n",
    "\n",
    "plt.show()"
   ]
  },
  {
   "cell_type": "code",
   "execution_count": null,
   "id": "7672a43d",
   "metadata": {},
   "outputs": [],
   "source": []
  }
 ],
 "metadata": {
  "kernelspec": {
   "display_name": "Python 3 (ipykernel)",
   "language": "python",
   "name": "python3"
  },
  "language_info": {
   "codemirror_mode": {
    "name": "ipython",
    "version": 3
   },
   "file_extension": ".py",
   "mimetype": "text/x-python",
   "name": "python",
   "nbconvert_exporter": "python",
   "pygments_lexer": "ipython3",
   "version": "3.9.7"
  }
 },
 "nbformat": 4,
 "nbformat_minor": 5
}
